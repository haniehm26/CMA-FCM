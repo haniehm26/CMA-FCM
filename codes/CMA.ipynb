{
 "cells": [
  {
   "cell_type": "code",
   "execution_count": 1,
   "id": "a4197cc5",
   "metadata": {},
   "outputs": [],
   "source": [
    "import numpy as np\n",
    "import matplotlib.pyplot as plt\n",
    "\n",
    "import time"
   ]
  },
  {
   "cell_type": "code",
   "execution_count": 8,
   "id": "4541bdfd",
   "metadata": {},
   "outputs": [],
   "source": [
    "def Sphere(x):\n",
    "    return np.sum(np.square(x), axis=2)\n",
    "\n",
    "def Rastrigin(x):\n",
    "    d = x.shape[2]\n",
    "    return 10*d + np.sum(np.square(x) - 10*(np.cos(2*np.pi*x)), axis=2)\n",
    "\n",
    "def Ackley(x):\n",
    "    d = x.shape[2]\n",
    "    return 20 - 20*np.exp(-0.2*np.sqrt((1/d)*np.sum(np.square(x), axis=2))) + np.e - np.exp((1/d)*np.sum((np.cos(2*np.pi*x)), axis=2))"
   ]
  },
  {
   "cell_type": "code",
   "execution_count": 9,
   "id": "fa0312d0",
   "metadata": {},
   "outputs": [],
   "source": [
    "def contour_plot(domain, level, objective_function, given_X):\n",
    "    \n",
    "    d_min = np.min(domain)\n",
    "    d_max = np.max(domain) \n",
    "    domain = np.arange(d_min, d_max, 0.1)\n",
    "   \n",
    "    x_1, x_2 = np.meshgrid(domain, domain)\n",
    "    \n",
    "    X = np.dstack((x_1, x_2))\n",
    "    y = objective_function(X)\n",
    "    \n",
    "    fig = plt.figure(figsize=(5, 5))\n",
    "    \n",
    "    ax_1 = fig.add_subplot(1, 1, 1)\n",
    "\n",
    "    ax_1.set_title('Contour of ' + objective_function.__name__+ ', CMA')\n",
    "    ax_1.contour(x_1, x_2, y, cmap='turbo', levels=level)\n",
    "    \n",
    "    in_domain = (given_X > d_min + 0.1) * (given_X < d_max - 0.1)\n",
    "    given_X = np.delete(given_X, np.where(in_domain==False)[0], axis=0)\n",
    "    \n",
    "    if given_X.shape[2] == 2:\n",
    "        plt.plot(given_X[:, :, 0], given_X[:, :, 1], 'r+')\n",
    "    if given_X.shape[2] == 3:\n",
    "        ax_1.scatter(given_X[:, :, 0] , given_X[:, :, 1] , given_X[:, :, 2],  c='r')\n",
    "#     plt.savefig('Contour of '+ objective_function.__name__ + ', CMA'+'.png')\n",
    "    plt.show() "
   ]
  },
  {
   "cell_type": "code",
   "execution_count": 10,
   "id": "89c585f4",
   "metadata": {},
   "outputs": [],
   "source": [
    "def sigma_plot(sigma, generation, d):\n",
    "     \n",
    "    fig = plt.figure(figsize=(5, 5))\n",
    "    ax = fig.add_subplot(1, 1, 1)\n",
    "    \n",
    "    ax.set_title('Step-Size of '+ objective_function.__name__+' ,d='+str(d))\n",
    "    \n",
    "    plt.xlabel('generation')\n",
    "    plt.ylabel('sigma')\n",
    "        \n",
    "    plt.plot(range(generation), sigma, 'b--.')\n",
    "#     plt.savefig('Step-Size of '+ objective_function.__name__ +' ,d='+str(d)+ '.png')\n",
    "    plt.show() "
   ]
  },
  {
   "cell_type": "code",
   "execution_count": 25,
   "id": "3d3e1107",
   "metadata": {},
   "outputs": [],
   "source": [
    "def cma(domain, objective_function, d=2):\n",
    "\n",
    "    X = []\n",
    "    Sigma = []\n",
    "    resultX, resultY = 0, 0\n",
    "    \n",
    "    # objective function domain\n",
    "    d_min = np.min(domain)\n",
    "    d_max = np.max(domain)\n",
    "    \n",
    "    # initialize population\n",
    "    m = np.random.uniform(low=d_min, high=d_max, size=(d, 1))\n",
    "    sigma = 0.3*(d_max-d_min)\n",
    "    \n",
    "    # termination parameters\n",
    "    stop_fitness = 1e-10\n",
    "    stop_generation = (1e3*d**2)*10\n",
    "    \n",
    "    # lambda & mu\n",
    "    LAMBDA = int(4+np.floor(3*np.log(d)))\n",
    "    MU = int(LAMBDA/2)\n",
    "    \n",
    "    # weights\n",
    "    w = np.log(MU+1/2)-np.log(range(1, MU+1)).reshape(MU, 1)\n",
    "    w = w / np.sum(w)\n",
    "\n",
    "    # step size control parameters \n",
    "    mueff = 1 / np.sum(w**2)\n",
    "    cs = (mueff+2) / (d+mueff+5)\n",
    "    ds = 1 + 2*np.maximum(0, np.sqrt((mueff-1)/(d+1)) - 1) + cs\n",
    "    \n",
    "    # covariance matrix parameters\n",
    "    alpha = 2\n",
    "    cc = (4+mueff/d) / (d+4+2*mueff/d)\n",
    "    c1 = alpha / ((d+1.3)**2+mueff)\n",
    "    cmu = np.minimum(1-c1, alpha*((mueff-2+1/mueff) / ((d+2)**2+alpha*mueff/2)))\n",
    "    \n",
    "    # evolution path\n",
    "    ps = np.zeros((d, 1))\n",
    "    pc = np.zeros((d, 1))\n",
    "    \n",
    "    # matrices\n",
    "    B = np.eye(d)\n",
    "    D = np.eye(d)\n",
    "    C = B@D@(B@D).T\n",
    "    update_matrix = 0\n",
    "    \n",
    "    # expectation of ||N(0, I)||\n",
    "    E = d**0.5*(1-1/(4*d)+1/(21*d**2))\n",
    "    \n",
    "    # loop\n",
    "    population_size = 0\n",
    "    while population_size < stop_generation:\n",
    "        # generate offspring\n",
    "        z = np.random.randn(d*LAMBDA).reshape(d, LAMBDA)\n",
    "        v = B@D@z\n",
    "        \n",
    "        # mutation\n",
    "        x = m + sigma*v\n",
    "        \n",
    "        # check offspring domain \n",
    "        counter = 0\n",
    "        while (x > d_max).any() or (x < d_min).any():\n",
    "            z = np.random.randn(d*LAMBDA).reshape(d, LAMBDA)\n",
    "            v = B@D@z\n",
    "            where_min = np.where(x < d_min)\n",
    "            where_max = np.where(x > d_max)\n",
    "            x[where_min] = (m + sigma*v)[where_min]\n",
    "            x[where_max] = (m + sigma*v)[where_max]\n",
    "            \n",
    "#             print('re-generate offspring')\n",
    "                \n",
    "        # calculate fitness\n",
    "        fitness = objective_function(x.reshape(LAMBDA, -1, d))    \n",
    "        population_size+=LAMBDA\n",
    "\n",
    "        # select parents by rank\n",
    "        ranks = np.argsort(np.argsort(fitness.reshape(LAMBDA)))\n",
    "        selected = [i for i,_ in enumerate(ranks) if ranks[i] < MU]\n",
    "        \n",
    "        x = x.reshape(LAMBDA, -1)\n",
    "        z = z.reshape(LAMBDA, -1)\n",
    "        y = np.zeros((d, 1))\n",
    "        \n",
    "        # recombination\n",
    "        m = x[selected].reshape(d, -1)@w\n",
    "        y = z[selected].reshape(d, -1)@w\n",
    "        \n",
    "        print(y)\n",
    "        \n",
    "        # update evolution paths\n",
    "        ps = (1-cs)*ps+(np.sqrt(cs*(2-cs)*mueff))*(B@y)\n",
    "        hs = np.minimum(np.linalg.norm(ps)/np.sqrt(1-(1-cs)**(2*population_size/LAMBDA))/E, 1.4+2/(d+1)) \n",
    "        pc = (1-cc)*pc+hs*np.sqrt(cc*(2-cc)*mueff)*(B@D@y)\n",
    "\n",
    "        # update covariance matrix C\n",
    "        M = B@D@z[selected].reshape(d, -1)\n",
    "        C = (1-c1-cmu)*C+c1*(pc@pc.T+(1-hs)*cc*(2-cc)*C)+cmu*M*np.diag(w)@M.T  \n",
    "\n",
    "        # update step-size\n",
    "        Sigma.append(sigma)\n",
    "        sigma = sigma*np.exp((cs/ds)*(np.linalg.norm(ps)/E-1))\n",
    "\n",
    "        # update B and D from C\n",
    "        cone = 0\n",
    "        if population_size - update_matrix > LAMBDA/(cone+cmu)/d/10:\n",
    "            update_matrix = population_size\n",
    "            C = np.triu(C) + np.triu(C, 1).T\n",
    "            B, D = np.linalg.eig(C)\n",
    "            B = B*np.eye(d)\n",
    "            D = np.diag(np.sqrt(np.abs(np.diag(D).reshape(-1, 1))))*np.eye(d)\n",
    "        \n",
    "        if fitness[ranks[0]] <= stop_fitness:\n",
    "            print('fitness is good enough')\n",
    "            break\n",
    "        \n",
    "        if fitness[ranks[0]] == fitness[int(np.ceil(0.7*LAMBDA))]:\n",
    "            sigma = sigma * np.exp(0.2+cs/ds)\n",
    "#             print('local minimum risk')\n",
    "            X.append(x)\n",
    "        \n",
    "        # check sigma bound\n",
    "        if sigma > 10*(d_max-d_min):\n",
    "#             print('------------------ update sigma ------------------')\n",
    "            B = np.eye(d) \n",
    "            D = np.eye(d)\n",
    "            C = B@D@(B@D).T\n",
    "            ps = np.zeros((d, 1))\n",
    "            pc = np.zeros((d, 1))\n",
    "            sigma = 0.3*(d_max-d_min)    \n",
    "            \n",
    "#         print('generation:',int(population_size/LAMBDA))\n",
    "#         print('X=', x[ranks[0]], ', y=', fitness[ranks[0]])\n",
    "#         print('sigma: ', sigma)\n",
    "#         print('B: ', B)\n",
    "#         print('y: ', y)\n",
    "#         print('ps: ', ps)\n",
    "#         print()\n",
    "\n",
    "        X.append(x)\n",
    "    \n",
    "        resultX = x[ranks[0]]\n",
    "        resultY = fitness[ranks[0]]\n",
    "        \n",
    "    return X, Sigma, int(population_size/LAMBDA), [resultX, resultY]"
   ]
  },
  {
   "cell_type": "code",
   "execution_count": 26,
   "id": "afbc8194",
   "metadata": {},
   "outputs": [],
   "source": [
    "def call_cma(domain, objective_function, D):\n",
    "    start_time = time.time()\n",
    "    X, Sigma, g, result = cma(domain=domain,\n",
    "                      objective_function=objective_function,\n",
    "                      d=D)\n",
    "    print('y=', result[1],', g=',g)\n",
    "    print(\"--- execution time: %s seconds ---\" % (time.time() - start_time))\n",
    "    \n",
    "#     if D==2:\n",
    "#         contour_plot([-5.12, 5.12], 15, objective_function, np.array(X))\n",
    "#     sigma_plot(Sigma, g, D)"
   ]
  },
  {
   "cell_type": "code",
   "execution_count": null,
   "id": "edb9e036",
   "metadata": {
    "scrolled": true
   },
   "outputs": [],
   "source": [
    "domain=[-5.12, 5.12]\n",
    "objective_function=Sphere\n",
    "\n",
    "call_cma(domain, objective_function, D=2)"
   ]
  },
  {
   "cell_type": "code",
   "execution_count": null,
   "id": "8aa441ca",
   "metadata": {
    "scrolled": false
   },
   "outputs": [],
   "source": [
    "call_cma(domain, objective_function, D=16)"
   ]
  },
  {
   "cell_type": "code",
   "execution_count": null,
   "id": "8964bbbf",
   "metadata": {},
   "outputs": [],
   "source": [
    "call_cma(domain, objective_function, D=32)"
   ]
  },
  {
   "cell_type": "code",
   "execution_count": null,
   "id": "b29f8508",
   "metadata": {
    "scrolled": true
   },
   "outputs": [],
   "source": [
    "domain=[-5.12, 5.12]\n",
    "objective_function=Rastrigin\n",
    "\n",
    "call_cma(domain, objective_function, D=2)"
   ]
  },
  {
   "cell_type": "code",
   "execution_count": null,
   "id": "42b6d331",
   "metadata": {},
   "outputs": [],
   "source": [
    "call_cma(domain, objective_function, D=16)"
   ]
  },
  {
   "cell_type": "code",
   "execution_count": null,
   "id": "963d53f0",
   "metadata": {},
   "outputs": [],
   "source": [
    "call_cma(domain, objective_function, D=32)"
   ]
  },
  {
   "cell_type": "code",
   "execution_count": null,
   "id": "9f2ffd4e",
   "metadata": {
    "scrolled": true
   },
   "outputs": [],
   "source": [
    "domain=[-32.768, 32.768]\n",
    "objective_function=Ackley\n",
    "\n",
    "call_cma(domain, objective_function, D=2)"
   ]
  },
  {
   "cell_type": "code",
   "execution_count": null,
   "id": "257160ba",
   "metadata": {},
   "outputs": [],
   "source": [
    "call_cma(domain, objective_function, D=16)"
   ]
  },
  {
   "cell_type": "code",
   "execution_count": null,
   "id": "358825ab",
   "metadata": {},
   "outputs": [],
   "source": [
    "call_cma(domain, objective_function, D=32)"
   ]
  }
 ],
 "metadata": {
  "kernelspec": {
   "display_name": "Python 3 (ipykernel)",
   "language": "python",
   "name": "python3"
  },
  "language_info": {
   "codemirror_mode": {
    "name": "ipython",
    "version": 3
   },
   "file_extension": ".py",
   "mimetype": "text/x-python",
   "name": "python",
   "nbconvert_exporter": "python",
   "pygments_lexer": "ipython3",
   "version": "3.9.5"
  }
 },
 "nbformat": 4,
 "nbformat_minor": 5
}
